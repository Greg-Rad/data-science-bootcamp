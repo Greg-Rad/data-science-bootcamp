{
  "nbformat": 4,
  "nbformat_minor": 0,
  "metadata": {
    "colab": {
      "provenance": [],
      "authorship_tag": "ABX9TyMyzAvI541ewpSn0EIqOdeg",
      "include_colab_link": true
    },
    "kernelspec": {
      "name": "python3",
      "display_name": "Python 3"
    },
    "language_info": {
      "name": "python"
    }
  },
  "cells": [
    {
      "cell_type": "markdown",
      "metadata": {
        "id": "view-in-github",
        "colab_type": "text"
      },
      "source": [
        "<a href=\"https://colab.research.google.com/github/Greg-Rad/data-science-bootcamp/blob/main/Untitled0.ipynb\" target=\"_parent\"><img src=\"https://colab.research.google.com/assets/colab-badge.svg\" alt=\"Open In Colab\"/></a>"
      ]
    },
    {
      "cell_type": "code",
      "execution_count": null,
      "metadata": {
        "colab": {
          "base_uri": "https://localhost:8080/"
        },
        "id": "SVAPjb2l-v3p",
        "outputId": "bfb3acd6-5eee-4f35-a119-73c320890a3c"
      },
      "outputs": [
        {
          "output_type": "stream",
          "name": "stdout",
          "text": [
            "Witaj Grzegorz\n"
          ]
        }
      ],
      "source": [
        "print('Witaj Grzegorz')\n"
      ]
    },
    {
      "cell_type": "markdown",
      "source": [
        "Pierwszy wpis\n"
      ],
      "metadata": {
        "id": "9Z8IgCMr_Grz"
      }
    }
  ]
}